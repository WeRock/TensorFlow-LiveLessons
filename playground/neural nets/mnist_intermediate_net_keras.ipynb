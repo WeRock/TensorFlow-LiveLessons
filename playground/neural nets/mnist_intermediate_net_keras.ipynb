{
 "cells": [
  {
   "cell_type": "markdown",
   "metadata": {},
   "source": [
    "## Intermediate Neural Net in Keras"
   ]
  },
  {
   "cell_type": "markdown",
   "metadata": {},
   "source": [
    "###### An intermediate neural net to classify MNIST digits"
   ]
  },
  {
   "cell_type": "code",
   "execution_count": 1,
   "metadata": {},
   "outputs": [],
   "source": [
    "import numpy as np\n",
    "np.random.seed(42)"
   ]
  },
  {
   "cell_type": "code",
   "execution_count": 2,
   "metadata": {},
   "outputs": [
    {
     "name": "stderr",
     "output_type": "stream",
     "text": [
      "Using TensorFlow backend.\n"
     ]
    }
   ],
   "source": [
    "import keras\n",
    "from keras.datasets import mnist\n",
    "from keras.layers import Dense\n",
    "from keras.models import Sequential\n",
    "from keras.optimizers import SGD"
   ]
  },
  {
   "cell_type": "code",
   "execution_count": 3,
   "metadata": {},
   "outputs": [],
   "source": [
    "(X_train, y_train),(X_test, y_test) = mnist.load_data()"
   ]
  },
  {
   "cell_type": "code",
   "execution_count": 4,
   "metadata": {},
   "outputs": [
    {
     "data": {
      "text/plain": [
       "(60000, 28, 28)"
      ]
     },
     "execution_count": 4,
     "metadata": {},
     "output_type": "execute_result"
    }
   ],
   "source": [
    "X_train.shape"
   ]
  },
  {
   "cell_type": "code",
   "execution_count": 5,
   "metadata": {},
   "outputs": [
    {
     "data": {
      "text/plain": [
       "(60000, 784)"
      ]
     },
     "execution_count": 5,
     "metadata": {},
     "output_type": "execute_result"
    }
   ],
   "source": [
    "X_train = X_train.reshape(60000, 784).astype('float32')\n",
    "X_test = X_test.reshape(10000, 784).astype('float32')\n",
    "X_train.shape"
   ]
  },
  {
   "cell_type": "code",
   "execution_count": 6,
   "metadata": {},
   "outputs": [],
   "source": [
    "X_train /=255\n",
    "X_test /=255"
   ]
  },
  {
   "cell_type": "code",
   "execution_count": 7,
   "metadata": {},
   "outputs": [],
   "source": [
    "n_classes = 10\n",
    "y_train = keras.utils.to_categorical(y_train, n_classes)\n",
    "y_test = keras.utils.to_categorical(y_test, n_classes)"
   ]
  },
  {
   "cell_type": "markdown",
   "metadata": {},
   "source": [
    "## Design the neural net architecture"
   ]
  },
  {
   "cell_type": "code",
   "execution_count": 8,
   "metadata": {},
   "outputs": [],
   "source": [
    "model = Sequential()\n",
    "model.add(Dense(64, activation='relu', input_shape =(784,)))\n",
    "model.add(Dense(64, activation='relu'))\n",
    "model.add(Dense(10, activation='softmax'))"
   ]
  },
  {
   "cell_type": "markdown",
   "metadata": {},
   "source": [
    "### Configure the model"
   ]
  },
  {
   "cell_type": "code",
   "execution_count": 9,
   "metadata": {},
   "outputs": [],
   "source": [
    "model.compile(optimizer=SGD(lr=0.1),loss='categorical_crossentropy',metrics=['accuracy'])"
   ]
  },
  {
   "cell_type": "markdown",
   "metadata": {},
   "source": [
    "### Train the model"
   ]
  },
  {
   "cell_type": "code",
   "execution_count": 10,
   "metadata": {},
   "outputs": [
    {
     "name": "stdout",
     "output_type": "stream",
     "text": [
      "Train on 60000 samples, validate on 10000 samples\n",
      "Epoch 1/50\n",
      "60000/60000 [==============================] - 1s - loss: 0.4822 - acc: 0.8623 - val_loss: 0.2505 - val_acc: 0.9257\n",
      "Epoch 2/50\n",
      "60000/60000 [==============================] - 1s - loss: 0.2305 - acc: 0.9332 - val_loss: 0.2084 - val_acc: 0.9375\n",
      "Epoch 3/50\n",
      "60000/60000 [==============================] - 1s - loss: 0.1782 - acc: 0.9479 - val_loss: 0.1521 - val_acc: 0.9544\n",
      "Epoch 4/50\n",
      "60000/60000 [==============================] - 1s - loss: 0.1476 - acc: 0.9565 - val_loss: 0.1354 - val_acc: 0.9595\n",
      "Epoch 5/50\n",
      "60000/60000 [==============================] - 1s - loss: 0.1262 - acc: 0.9630 - val_loss: 0.1433 - val_acc: 0.9561\n",
      "Epoch 6/50\n",
      "60000/60000 [==============================] - 1s - loss: 0.1113 - acc: 0.9671 - val_loss: 0.1118 - val_acc: 0.9660\n",
      "Epoch 7/50\n",
      "60000/60000 [==============================] - 1s - loss: 0.0985 - acc: 0.9707 - val_loss: 0.1041 - val_acc: 0.9682\n",
      "Epoch 8/50\n",
      "60000/60000 [==============================] - 1s - loss: 0.0880 - acc: 0.9743 - val_loss: 0.0980 - val_acc: 0.9702\n",
      "Epoch 9/50\n",
      "60000/60000 [==============================] - 1s - loss: 0.0817 - acc: 0.9753 - val_loss: 0.0963 - val_acc: 0.9721\n",
      "Epoch 10/50\n",
      "60000/60000 [==============================] - 1s - loss: 0.0732 - acc: 0.9780 - val_loss: 0.1091 - val_acc: 0.9644\n",
      "Epoch 11/50\n",
      "60000/60000 [==============================] - 1s - loss: 0.0681 - acc: 0.9795 - val_loss: 0.0940 - val_acc: 0.9722\n",
      "Epoch 12/50\n",
      "60000/60000 [==============================] - 1s - loss: 0.0624 - acc: 0.9812 - val_loss: 0.0861 - val_acc: 0.9748\n",
      "Epoch 13/50\n",
      "60000/60000 [==============================] - 1s - loss: 0.0572 - acc: 0.9828 - val_loss: 0.0975 - val_acc: 0.9707\n",
      "Epoch 14/50\n",
      "60000/60000 [==============================] - 1s - loss: 0.0537 - acc: 0.9837 - val_loss: 0.0881 - val_acc: 0.9730\n",
      "Epoch 15/50\n",
      "60000/60000 [==============================] - 1s - loss: 0.0499 - acc: 0.9850 - val_loss: 0.0895 - val_acc: 0.9711\n",
      "Epoch 16/50\n",
      "60000/60000 [==============================] - 1s - loss: 0.0458 - acc: 0.9862 - val_loss: 0.0934 - val_acc: 0.9719\n",
      "Epoch 17/50\n",
      "60000/60000 [==============================] - 1s - loss: 0.0438 - acc: 0.9866 - val_loss: 0.0907 - val_acc: 0.9729\n",
      "Epoch 18/50\n",
      "60000/60000 [==============================] - 1s - loss: 0.0406 - acc: 0.9878 - val_loss: 0.0898 - val_acc: 0.9734\n",
      "Epoch 19/50\n",
      "60000/60000 [==============================] - 1s - loss: 0.0368 - acc: 0.9890 - val_loss: 0.0869 - val_acc: 0.9742\n",
      "Epoch 20/50\n",
      "60000/60000 [==============================] - 1s - loss: 0.0343 - acc: 0.9896 - val_loss: 0.0843 - val_acc: 0.9763\n",
      "Epoch 21/50\n",
      "60000/60000 [==============================] - 1s - loss: 0.0333 - acc: 0.9901 - val_loss: 0.0840 - val_acc: 0.9752\n",
      "Epoch 22/50\n",
      "60000/60000 [==============================] - 1s - loss: 0.0308 - acc: 0.9908 - val_loss: 0.0810 - val_acc: 0.9778\n",
      "Epoch 23/50\n",
      "60000/60000 [==============================] - 1s - loss: 0.0282 - acc: 0.9916 - val_loss: 0.0840 - val_acc: 0.9775\n",
      "Epoch 24/50\n",
      "60000/60000 [==============================] - 1s - loss: 0.0274 - acc: 0.9919 - val_loss: 0.0828 - val_acc: 0.9772\n",
      "Epoch 25/50\n",
      "60000/60000 [==============================] - 1s - loss: 0.0250 - acc: 0.9924 - val_loss: 0.0871 - val_acc: 0.9764\n",
      "Epoch 26/50\n",
      "60000/60000 [==============================] - 1s - loss: 0.0247 - acc: 0.9926 - val_loss: 0.0905 - val_acc: 0.9760\n",
      "Epoch 27/50\n",
      "60000/60000 [==============================] - 1s - loss: 0.0216 - acc: 0.9939 - val_loss: 0.0840 - val_acc: 0.9782\n",
      "Epoch 28/50\n",
      "60000/60000 [==============================] - 1s - loss: 0.0201 - acc: 0.9942 - val_loss: 0.0853 - val_acc: 0.9767\n",
      "Epoch 29/50\n",
      "60000/60000 [==============================] - 1s - loss: 0.0185 - acc: 0.9948 - val_loss: 0.0867 - val_acc: 0.9778\n",
      "Epoch 30/50\n",
      "60000/60000 [==============================] - 1s - loss: 0.0166 - acc: 0.9957 - val_loss: 0.0908 - val_acc: 0.9778\n",
      "Epoch 31/50\n",
      "60000/60000 [==============================] - 1s - loss: 0.0159 - acc: 0.9959 - val_loss: 0.0863 - val_acc: 0.9771\n",
      "Epoch 32/50\n",
      "60000/60000 [==============================] - 1s - loss: 0.0141 - acc: 0.9966 - val_loss: 0.0875 - val_acc: 0.9779\n",
      "Epoch 33/50\n",
      "60000/60000 [==============================] - 1s - loss: 0.0129 - acc: 0.9969 - val_loss: 0.0919 - val_acc: 0.9758\n",
      "Epoch 34/50\n",
      "60000/60000 [==============================] - 1s - loss: 0.0125 - acc: 0.9972 - val_loss: 0.0908 - val_acc: 0.9763\n",
      "Epoch 35/50\n",
      "60000/60000 [==============================] - 1s - loss: 0.0116 - acc: 0.9974 - val_loss: 0.1027 - val_acc: 0.9722\n",
      "Epoch 36/50\n",
      "60000/60000 [==============================] - 1s - loss: 0.0112 - acc: 0.9974 - val_loss: 0.0919 - val_acc: 0.9761\n",
      "Epoch 37/50\n",
      "60000/60000 [==============================] - 1s - loss: 0.0105 - acc: 0.9977 - val_loss: 0.0930 - val_acc: 0.9773\n",
      "Epoch 38/50\n",
      "60000/60000 [==============================] - 1s - loss: 0.0093 - acc: 0.9983 - val_loss: 0.0928 - val_acc: 0.9762\n",
      "Epoch 39/50\n",
      "60000/60000 [==============================] - 1s - loss: 0.0084 - acc: 0.9986 - val_loss: 0.1017 - val_acc: 0.9749\n",
      "Epoch 40/50\n",
      "60000/60000 [==============================] - 1s - loss: 0.0076 - acc: 0.9987 - val_loss: 0.0932 - val_acc: 0.9770\n",
      "Epoch 41/50\n",
      "60000/60000 [==============================] - 1s - loss: 0.0070 - acc: 0.9990 - val_loss: 0.0968 - val_acc: 0.9762\n",
      "Epoch 42/50\n",
      "60000/60000 [==============================] - 1s - loss: 0.0068 - acc: 0.9989 - val_loss: 0.0974 - val_acc: 0.9771\n",
      "Epoch 43/50\n",
      "60000/60000 [==============================] - 1s - loss: 0.0058 - acc: 0.9993 - val_loss: 0.1009 - val_acc: 0.9759\n",
      "Epoch 44/50\n",
      "60000/60000 [==============================] - 1s - loss: 0.0052 - acc: 0.9994 - val_loss: 0.0975 - val_acc: 0.9776\n",
      "Epoch 45/50\n",
      "60000/60000 [==============================] - 1s - loss: 0.0052 - acc: 0.9994 - val_loss: 0.1015 - val_acc: 0.9763\n",
      "Epoch 46/50\n",
      "60000/60000 [==============================] - 1s - loss: 0.0046 - acc: 0.9996 - val_loss: 0.0995 - val_acc: 0.9757\n",
      "Epoch 47/50\n",
      "60000/60000 [==============================] - 1s - loss: 0.0044 - acc: 0.9995 - val_loss: 0.1003 - val_acc: 0.9761\n",
      "Epoch 48/50\n",
      "60000/60000 [==============================] - 1s - loss: 0.0039 - acc: 0.9998 - val_loss: 0.1031 - val_acc: 0.9766\n",
      "Epoch 49/50\n",
      "60000/60000 [==============================] - 1s - loss: 0.0037 - acc: 0.9997 - val_loss: 0.1028 - val_acc: 0.9759\n",
      "Epoch 50/50\n",
      "60000/60000 [==============================] - 1s - loss: 0.0034 - acc: 0.9999 - val_loss: 0.1018 - val_acc: 0.9768\n",
      " 8224/10000 [=======================>......] - ETA: 0s"
     ]
    },
    {
     "data": {
      "text/plain": [
       "[0.10183435120852155, 0.9768]"
      ]
     },
     "execution_count": 10,
     "metadata": {},
     "output_type": "execute_result"
    }
   ],
   "source": [
    "model.fit(X_train, y_train, batch_size=128,epochs=50,validation_data=(X_test,y_test))\n",
    "model.evaluate(X_test, y_test)"
   ]
  },
  {
   "cell_type": "code",
   "execution_count": null,
   "metadata": {},
   "outputs": [],
   "source": []
  }
 ],
 "metadata": {
  "kernelspec": {
   "display_name": "Python 3",
   "language": "python",
   "name": "python3"
  },
  "language_info": {
   "codemirror_mode": {
    "name": "ipython",
    "version": 3
   },
   "file_extension": ".py",
   "mimetype": "text/x-python",
   "name": "python",
   "nbconvert_exporter": "python",
   "pygments_lexer": "ipython3",
   "version": "3.6.3"
  }
 },
 "nbformat": 4,
 "nbformat_minor": 2
}
