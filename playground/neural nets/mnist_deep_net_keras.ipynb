{
 "cells": [
  {
   "cell_type": "markdown",
   "metadata": {},
   "source": [
    "## Deep Neural Net in Keras"
   ]
  },
  {
   "cell_type": "markdown",
   "metadata": {},
   "source": [
    "###### A deep neural net to classify MNIST digits"
   ]
  },
  {
   "cell_type": "code",
   "execution_count": 1,
   "metadata": {},
   "outputs": [],
   "source": [
    "import numpy as np\n",
    "np.random.seed(42)"
   ]
  },
  {
   "cell_type": "code",
   "execution_count": 2,
   "metadata": {},
   "outputs": [
    {
     "name": "stderr",
     "output_type": "stream",
     "text": [
      "Using TensorFlow backend.\n"
     ]
    }
   ],
   "source": [
    "import keras\n",
    "from keras.datasets import mnist\n",
    "from keras.layers import Dense\n",
    "from keras.layers import Dropout\n",
    "from keras.models import Sequential\n",
    "from keras.layers.normalization import BatchNormalization\n",
    "from keras.optimizers import SGD\n",
    "from keras import regularizers"
   ]
  },
  {
   "cell_type": "code",
   "execution_count": 3,
   "metadata": {},
   "outputs": [],
   "source": [
    "(X_train, y_train),(X_test, y_test) = mnist.load_data()"
   ]
  },
  {
   "cell_type": "code",
   "execution_count": 4,
   "metadata": {},
   "outputs": [
    {
     "data": {
      "text/plain": [
       "(60000, 28, 28)"
      ]
     },
     "execution_count": 4,
     "metadata": {},
     "output_type": "execute_result"
    }
   ],
   "source": [
    "X_train.shape"
   ]
  },
  {
   "cell_type": "code",
   "execution_count": 5,
   "metadata": {},
   "outputs": [
    {
     "data": {
      "text/plain": [
       "(60000, 784)"
      ]
     },
     "execution_count": 5,
     "metadata": {},
     "output_type": "execute_result"
    }
   ],
   "source": [
    "X_train = X_train.reshape(60000, 784).astype('float32')\n",
    "X_test = X_test.reshape(10000, 784).astype('float32')\n",
    "X_train.shape"
   ]
  },
  {
   "cell_type": "code",
   "execution_count": 6,
   "metadata": {},
   "outputs": [],
   "source": [
    "X_train /=255\n",
    "X_test /=255"
   ]
  },
  {
   "cell_type": "code",
   "execution_count": 7,
   "metadata": {},
   "outputs": [],
   "source": [
    "n_classes = 10\n",
    "y_train = keras.utils.to_categorical(y_train, n_classes)\n",
    "y_test = keras.utils.to_categorical(y_test, n_classes)"
   ]
  },
  {
   "cell_type": "markdown",
   "metadata": {},
   "source": [
    "## Design the neural net architecture"
   ]
  },
  {
   "cell_type": "code",
   "execution_count": 8,
   "metadata": {},
   "outputs": [],
   "source": [
    "model = Sequential()\n",
    "model.add(Dense(64, activation='relu', input_shape =(784,)))\n",
    "model.add(BatchNormalization())\n",
    "model.add(Dropout(0.5))\n",
    "model.add(Dense(64, activation='relu'))\n",
    "model.add(BatchNormalization())\n",
    "model.add(Dropout(0.5))\n",
    "model.add(Dense(64, activation='relu'))\n",
    "model.add(BatchNormalization())\n",
    "model.add(Dropout(0.5))\n",
    "model.add(Dense(10, activation='softmax'))"
   ]
  },
  {
   "cell_type": "code",
   "execution_count": 9,
   "metadata": {},
   "outputs": [
    {
     "name": "stdout",
     "output_type": "stream",
     "text": [
      "_________________________________________________________________\n",
      "Layer (type)                 Output Shape              Param #   \n",
      "=================================================================\n",
      "dense_1 (Dense)              (None, 64)                50240     \n",
      "_________________________________________________________________\n",
      "batch_normalization_1 (Batch (None, 64)                256       \n",
      "_________________________________________________________________\n",
      "dropout_1 (Dropout)          (None, 64)                0         \n",
      "_________________________________________________________________\n",
      "dense_2 (Dense)              (None, 64)                4160      \n",
      "_________________________________________________________________\n",
      "batch_normalization_2 (Batch (None, 64)                256       \n",
      "_________________________________________________________________\n",
      "dropout_2 (Dropout)          (None, 64)                0         \n",
      "_________________________________________________________________\n",
      "dense_3 (Dense)              (None, 64)                4160      \n",
      "_________________________________________________________________\n",
      "batch_normalization_3 (Batch (None, 64)                256       \n",
      "_________________________________________________________________\n",
      "dropout_3 (Dropout)          (None, 64)                0         \n",
      "_________________________________________________________________\n",
      "dense_4 (Dense)              (None, 10)                650       \n",
      "=================================================================\n",
      "Total params: 59,978\n",
      "Trainable params: 59,594\n",
      "Non-trainable params: 384\n",
      "_________________________________________________________________\n"
     ]
    }
   ],
   "source": [
    "model.summary()"
   ]
  },
  {
   "cell_type": "markdown",
   "metadata": {},
   "source": [
    "#### Configure model"
   ]
  },
  {
   "cell_type": "code",
   "execution_count": 10,
   "metadata": {},
   "outputs": [],
   "source": [
    "model.compile(loss=\"categorical_crossentropy\",optimizer='adam', metrics=['accuracy'])"
   ]
  },
  {
   "cell_type": "markdown",
   "metadata": {},
   "source": [
    "### Train"
   ]
  },
  {
   "cell_type": "code",
   "execution_count": 11,
   "metadata": {},
   "outputs": [
    {
     "name": "stdout",
     "output_type": "stream",
     "text": [
      "Train on 60000 samples, validate on 10000 samples\n",
      "Epoch 1/50\n",
      "60000/60000 [==============================] - 4s - loss: 1.1501 - acc: 0.6264 - val_loss: 0.3186 - val_acc: 0.9086\n",
      "Epoch 2/50\n",
      "60000/60000 [==============================] - 4s - loss: 0.5680 - acc: 0.8315 - val_loss: 0.2527 - val_acc: 0.9258\n",
      "Epoch 3/50\n",
      "60000/60000 [==============================] - 5s - loss: 0.4602 - acc: 0.8680 - val_loss: 0.2198 - val_acc: 0.9350\n",
      "Epoch 4/50\n",
      "60000/60000 [==============================] - 5s - loss: 0.4031 - acc: 0.8870 - val_loss: 0.1988 - val_acc: 0.9415\n",
      "Epoch 5/50\n",
      "60000/60000 [==============================] - 4s - loss: 0.3698 - acc: 0.8967 - val_loss: 0.1843 - val_acc: 0.9451\n",
      "Epoch 6/50\n",
      "60000/60000 [==============================] - 4s - loss: 0.3471 - acc: 0.9040 - val_loss: 0.1757 - val_acc: 0.9500\n",
      "Epoch 7/50\n",
      "60000/60000 [==============================] - 4s - loss: 0.3347 - acc: 0.9065 - val_loss: 0.1669 - val_acc: 0.9520\n",
      "Epoch 8/50\n",
      "60000/60000 [==============================] - 4s - loss: 0.3255 - acc: 0.9102 - val_loss: 0.1584 - val_acc: 0.9540\n",
      "Epoch 9/50\n",
      "60000/60000 [==============================] - 4s - loss: 0.3094 - acc: 0.9152 - val_loss: 0.1602 - val_acc: 0.9558\n",
      "Epoch 10/50\n",
      "60000/60000 [==============================] - 4s - loss: 0.2973 - acc: 0.9185 - val_loss: 0.1524 - val_acc: 0.9577\n",
      "Epoch 11/50\n",
      "60000/60000 [==============================] - 4s - loss: 0.2921 - acc: 0.9203 - val_loss: 0.1589 - val_acc: 0.9542\n",
      "Epoch 12/50\n",
      "60000/60000 [==============================] - 4s - loss: 0.2866 - acc: 0.9198 - val_loss: 0.1514 - val_acc: 0.9564\n",
      "Epoch 13/50\n",
      "60000/60000 [==============================] - 4s - loss: 0.2745 - acc: 0.9249 - val_loss: 0.1410 - val_acc: 0.9610\n",
      "Epoch 14/50\n",
      "60000/60000 [==============================] - 4s - loss: 0.2729 - acc: 0.9241 - val_loss: 0.1446 - val_acc: 0.9604\n",
      "Epoch 15/50\n",
      "60000/60000 [==============================] - 4s - loss: 0.2691 - acc: 0.9261 - val_loss: 0.1448 - val_acc: 0.9603\n",
      "Epoch 16/50\n",
      "60000/60000 [==============================] - 4s - loss: 0.2612 - acc: 0.9284 - val_loss: 0.1406 - val_acc: 0.9600\n",
      "Epoch 17/50\n",
      "60000/60000 [==============================] - 4s - loss: 0.2616 - acc: 0.9280 - val_loss: 0.1388 - val_acc: 0.9618\n",
      "Epoch 18/50\n",
      "60000/60000 [==============================] - 4s - loss: 0.2578 - acc: 0.9286 - val_loss: 0.1373 - val_acc: 0.9610\n",
      "Epoch 19/50\n",
      "60000/60000 [==============================] - 4s - loss: 0.2515 - acc: 0.9308 - val_loss: 0.1350 - val_acc: 0.9614\n",
      "Epoch 20/50\n",
      "60000/60000 [==============================] - 4s - loss: 0.2532 - acc: 0.9305 - val_loss: 0.1411 - val_acc: 0.9626\n",
      "Epoch 21/50\n",
      "60000/60000 [==============================] - 4s - loss: 0.2476 - acc: 0.9319 - val_loss: 0.1346 - val_acc: 0.9617\n",
      "Epoch 22/50\n",
      "60000/60000 [==============================] - 3s - loss: 0.2394 - acc: 0.9349 - val_loss: 0.1361 - val_acc: 0.9622\n",
      "Epoch 23/50\n",
      "60000/60000 [==============================] - 3s - loss: 0.2428 - acc: 0.9344 - val_loss: 0.1329 - val_acc: 0.9633\n",
      "Epoch 24/50\n",
      "60000/60000 [==============================] - 3s - loss: 0.2414 - acc: 0.9338 - val_loss: 0.1361 - val_acc: 0.9629\n",
      "Epoch 25/50\n",
      "60000/60000 [==============================] - 3s - loss: 0.2371 - acc: 0.9348 - val_loss: 0.1307 - val_acc: 0.9645\n",
      "Epoch 26/50\n",
      "60000/60000 [==============================] - 3s - loss: 0.2368 - acc: 0.9349 - val_loss: 0.1244 - val_acc: 0.9650\n",
      "Epoch 27/50\n",
      "60000/60000 [==============================] - 4s - loss: 0.2319 - acc: 0.9365 - val_loss: 0.1264 - val_acc: 0.9633\n",
      "Epoch 28/50\n",
      "60000/60000 [==============================] - 4s - loss: 0.2350 - acc: 0.9343 - val_loss: 0.1257 - val_acc: 0.9651\n",
      "Epoch 29/50\n",
      "60000/60000 [==============================] - 4s - loss: 0.2346 - acc: 0.9348 - val_loss: 0.1252 - val_acc: 0.9638\n",
      "Epoch 30/50\n",
      "60000/60000 [==============================] - 4s - loss: 0.2327 - acc: 0.9360 - val_loss: 0.1241 - val_acc: 0.9648\n",
      "Epoch 31/50\n",
      "60000/60000 [==============================] - 4s - loss: 0.2293 - acc: 0.9360 - val_loss: 0.1299 - val_acc: 0.9638\n",
      "Epoch 32/50\n",
      "60000/60000 [==============================] - 3s - loss: 0.2281 - acc: 0.9368 - val_loss: 0.1235 - val_acc: 0.9645\n",
      "Epoch 33/50\n",
      "60000/60000 [==============================] - 3s - loss: 0.2260 - acc: 0.9369 - val_loss: 0.1211 - val_acc: 0.9654\n",
      "Epoch 34/50\n",
      "60000/60000 [==============================] - 3s - loss: 0.2234 - acc: 0.9384 - val_loss: 0.1235 - val_acc: 0.9647\n",
      "Epoch 35/50\n",
      "60000/60000 [==============================] - 3s - loss: 0.2192 - acc: 0.9398 - val_loss: 0.1215 - val_acc: 0.9669\n",
      "Epoch 36/50\n",
      "60000/60000 [==============================] - 3s - loss: 0.2187 - acc: 0.9402 - val_loss: 0.1229 - val_acc: 0.9648\n",
      "Epoch 37/50\n",
      "60000/60000 [==============================] - 3s - loss: 0.2184 - acc: 0.9398 - val_loss: 0.1230 - val_acc: 0.9679\n",
      "Epoch 38/50\n",
      "60000/60000 [==============================] - 3s - loss: 0.2196 - acc: 0.9395 - val_loss: 0.1258 - val_acc: 0.9660\n",
      "Epoch 39/50\n",
      "60000/60000 [==============================] - 3s - loss: 0.2151 - acc: 0.9391 - val_loss: 0.1243 - val_acc: 0.9671\n",
      "Epoch 40/50\n",
      "60000/60000 [==============================] - 4s - loss: 0.2200 - acc: 0.9400 - val_loss: 0.1253 - val_acc: 0.9670\n",
      "Epoch 41/50\n",
      "60000/60000 [==============================] - 4s - loss: 0.2210 - acc: 0.9389 - val_loss: 0.1212 - val_acc: 0.9654\n",
      "Epoch 42/50\n",
      "60000/60000 [==============================] - 4s - loss: 0.2106 - acc: 0.9412 - val_loss: 0.1191 - val_acc: 0.9667\n",
      "Epoch 43/50\n",
      "60000/60000 [==============================] - 3s - loss: 0.2167 - acc: 0.9408 - val_loss: 0.1237 - val_acc: 0.9666\n",
      "Epoch 44/50\n",
      "60000/60000 [==============================] - 3s - loss: 0.2087 - acc: 0.9437 - val_loss: 0.1176 - val_acc: 0.9682\n",
      "Epoch 45/50\n",
      "60000/60000 [==============================] - 4s - loss: 0.2103 - acc: 0.9425 - val_loss: 0.1151 - val_acc: 0.9675\n",
      "Epoch 46/50\n",
      "60000/60000 [==============================] - 4s - loss: 0.2090 - acc: 0.9408 - val_loss: 0.1181 - val_acc: 0.9664\n",
      "Epoch 47/50\n",
      "60000/60000 [==============================] - 4s - loss: 0.2105 - acc: 0.9425 - val_loss: 0.1197 - val_acc: 0.9671\n",
      "Epoch 48/50\n",
      "60000/60000 [==============================] - 4s - loss: 0.2101 - acc: 0.9414 - val_loss: 0.1163 - val_acc: 0.9676\n",
      "Epoch 49/50\n",
      "60000/60000 [==============================] - 4s - loss: 0.2124 - acc: 0.9417 - val_loss: 0.1182 - val_acc: 0.9680\n",
      "Epoch 50/50\n",
      "60000/60000 [==============================] - 4s - loss: 0.2074 - acc: 0.9419 - val_loss: 0.1186 - val_acc: 0.9678\n"
     ]
    },
    {
     "data": {
      "text/plain": [
       "<keras.callbacks.History at 0x7f5fcffa5e48>"
      ]
     },
     "execution_count": 11,
     "metadata": {},
     "output_type": "execute_result"
    }
   ],
   "source": [
    "model.fit(X_train, y_train, batch_size=128, epochs=50, verbose=1, validation_data=(X_test, y_test))"
   ]
  },
  {
   "cell_type": "code",
   "execution_count": null,
   "metadata": {},
   "outputs": [],
   "source": []
  }
 ],
 "metadata": {
  "kernelspec": {
   "display_name": "Python 3",
   "language": "python",
   "name": "python3"
  },
  "language_info": {
   "codemirror_mode": {
    "name": "ipython",
    "version": 3
   },
   "file_extension": ".py",
   "mimetype": "text/x-python",
   "name": "python",
   "nbconvert_exporter": "python",
   "pygments_lexer": "ipython3",
   "version": "3.6.3"
  }
 },
 "nbformat": 4,
 "nbformat_minor": 2
}
